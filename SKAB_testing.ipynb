{
  "cells": [
    {
      "cell_type": "code",
      "source": [
        "import pandas as pd\n",
        "import numpy as np\n",
        "import matplotlib.pyplot as plt\n",
        "\n",
        "# for statistics\n",
        "from scipy.stats import kstest\n",
        "\n",
        "# preprocessing\n",
        "from sklearn.preprocessing import StandardScaler\n",
        "\n",
        "# ml methods\n",
        "from sklearn.ensemble import IsolationForest\n",
        "\n",
        "# metrics\n",
        "from sklearn.metrics import f1_score"
      ],
      "metadata": {
        "id": "oG6zyNZfv2W-"
      },
      "id": "oG6zyNZfv2W-",
      "execution_count": 5,
      "outputs": []
    },
    {
      "cell_type": "markdown",
      "source": [
        "# Datasets"
      ],
      "metadata": {
        "id": "EQNqgtR8vutb"
      },
      "id": "EQNqgtR8vutb"
    },
    {
      "cell_type": "code",
      "execution_count": 6,
      "id": "9f6dd3c2-5a68-49bf-aaa6-f208080cd093",
      "metadata": {
        "id": "9f6dd3c2-5a68-49bf-aaa6-f208080cd093",
        "outputId": "be11ee9b-fdbe-4dc8-e979-bff56dc74b0b",
        "colab": {
          "base_uri": "https://localhost:8080/",
          "height": 265
        }
      },
      "outputs": [
        {
          "output_type": "display_data",
          "data": {
            "text/plain": [
              "<Figure size 432x288 with 1 Axes>"
            ],
            "image/png": "[encoded data removed]"
          },
          "metadata": {
            "needs_background": "light"
          }
        }
      ],
      "source": [
        "# Синтетически сгенерированные нормально распределенные данные\n",
        "data_norm = pd.DataFrame(data=np.random.normal(\n",
        "                        loc=0, scale=1, size=(1000, 2)), \n",
        "                       columns=['x', 'y'])\n",
        "data_noise = pd.DataFrame(data=np.random.uniform(\n",
        "                        low=-6, high=6, size=(int(data_norm.shape[0]*.05), data_norm.shape[1])), \n",
        "                        columns=['x', 'y'])\n",
        "filter = (\n",
        "    (data_noise['x'] < data_norm['x'].min())\n",
        "    | (data_noise['x'] > data_norm['x'].max())\n",
        "    | (data_noise['y'] < data_norm['y'].min())\n",
        "    | (data_noise['y'] > data_norm['y'].max())\n",
        "    )\n",
        "data_noise = data_noise[filter]\n",
        "data_norm['anomaly'] = 0\n",
        "data_noise['anomaly'] = 1\n",
        "\n",
        "df_norm = pd.concat((data_norm, data_noise))\n",
        "plt.scatter(df_norm['x'], df_norm['y'], c=df_norm['anomaly'])\n",
        "plt.show()"
      ]
    },
    {
      "cell_type": "code",
      "source": [
        "# SKAB data\n",
        "\n",
        "# from google.colab import drive\n",
        "# drive.mount('/content/drive')\n",
        "# ! cp -r /content/drive/MyDrive/Study/MIPT_magistery/qualification_work/data .\n",
        "\n",
        "\n",
        "all_files=[]\n",
        "import os\n",
        "for root, dirs, files in os.walk(\"data/\"):\n",
        "    for file in files:\n",
        "        if file.endswith(\".csv\"):\n",
        "             all_files.append(os.path.join(root, file))\n",
        "\n",
        "# формируем датафрейм\n",
        "dfs=[]\n",
        "for path in all_files:\n",
        "    df = pd.read_csv(path,index_col='datetime',sep=';',parse_dates=True)\n",
        "    print(path, df.shape)\n",
        "    dfs.append(df)\n",
        "print('Features:')\n",
        "for col in dfs[2].columns:\n",
        "    print('\\t',col)\n",
        "dfs = [df for df in dfs if df.shape[1] == 10]\n",
        "df_skab = pd.concat(dfs)\n",
        "df_skab = df_skab.drop_duplicates()\n",
        "df_skab = df.drop('changepoint', axis=1)\n",
        "display(df_skab)"
      ],
      "metadata": {
        "id": "7dKs4YU3vx_d"
      },
      "id": "7dKs4YU3vx_d",
      "execution_count": null,
      "outputs": []
    },
    {
      "cell_type": "markdown",
      "source": [
        "# Статический метод выявления выбросов (3 сигма)"
      ],
      "metadata": {
        "id": "YC4gs49HAUQL"
      },
      "id": "YC4gs49HAUQL"
    },
    {
      "cell_type": "code",
      "execution_count": 7,
      "id": "5f8bd6f0-42a5-4f5e-9fda-a4adbff9c446",
      "metadata": {
        "id": "5f8bd6f0-42a5-4f5e-9fda-a4adbff9c446"
      },
      "outputs": [],
      "source": [
        "def check_kstest(df, alpha=0.05):\n",
        "    columns = list(df.columns)\n",
        "    cols_with_pos_res = []\n",
        "    for col in columns:\n",
        "        if kstest(df[col], 'norm').pvalue > alpha:\n",
        "            cols_with_pos_res.append(col)\n",
        "    return cols_with_pos_res\n",
        "\n",
        "def outliers_z_score(data, feature):\n",
        "    x = data[feature]\n",
        "    mu = x.mean()\n",
        "    sigma = x.std()\n",
        "    lower_bound = mu - 3 * sigma\n",
        "    upper_bound = mu + 3 * sigma\n",
        "    outliers = data[(x < lower_bound) | (x > upper_bound)]\n",
        "    cleaned = data[(x > lower_bound) & (x < upper_bound)]\n",
        "    print(f'Признак {feature}. Число выбросов по методу z-отклонения: {outliers.shape[0]}')\n",
        "    return outliers\n",
        "\n",
        "def z_score_method(df):\n",
        "    \"\"\"\n",
        "    Метод работает с нормально распределенными данными,\n",
        "    при чем с небольшим (до 10%) количеством выбросов.\n",
        "    С ненормально распределенными данными не работает.\n",
        "    \"\"\"\n",
        "    norm_cols = check_kstest(df)\n",
        "    if norm_cols:\n",
        "        outliers = pd.DataFrame()\n",
        "        for col in norm_cols:\n",
        "            outliers = pd.concat((outliers, outliers_z_score(df, col)))\n",
        "        outliers = outliers.drop_duplicates()\n",
        "        outliers['anomaly_preds'] = 1\n",
        "        df_with_marked_outliers = df.merge(outliers, how='outer').fillna(0)\n",
        "        return outliers, df_with_marked_outliers\n",
        "    else:\n",
        "        print('The data are not normally distributed')\n",
        "        return None, df"
      ]
    },
    {
      "cell_type": "markdown",
      "source": [
        "# Метрики"
      ],
      "metadata": {
        "id": "MLsoiQw96Stc"
      },
      "id": "MLsoiQw96Stc"
    },
    {
      "cell_type": "code",
      "source": [
        "# f1_score\n",
        "def score_metrics(real_outliers, pred_outliers):\n",
        "    scores = {}\n",
        "    scores['f1_score'] = f1_score(real_outliers, pred_outliers)\n",
        "    return scores"
      ],
      "metadata": {
        "id": "Hv1Q_2Wm6NAF"
      },
      "id": "Hv1Q_2Wm6NAF",
      "execution_count": 31,
      "outputs": []
    },
    {
      "cell_type": "markdown",
      "source": [
        "Ищем выбросы"
      ],
      "metadata": {
        "id": "_XgPY10nA3cn"
      },
      "id": "_XgPY10nA3cn"
    },
    {
      "cell_type": "code",
      "source": [
        "outliers, df_norm = z_score_method(df_norm)\n",
        "if outliers is not None:\n",
        "    print(score_metrics(df_norm['anomaly'], df_norm['anomaly_preds']))"
      ],
      "metadata": {
        "id": "dfgBxUIuwW5R",
        "outputId": "eab9cba7-c95d-4e5f-9c09-6607d9613a9d",
        "colab": {
          "base_uri": "https://localhost:8080/"
        }
      },
      "id": "dfgBxUIuwW5R",
      "execution_count": 32,
      "outputs": [
        {
          "output_type": "stream",
          "name": "stdout",
          "text": [
            "Признак x. Число выбросов по методу z-отклонения: 19\n",
            "Признак y. Число выбросов по методу z-отклонения: 20\n",
            "{'f1_score': 0.923076923076923}\n"
          ]
        }
      ]
    },
    {
      "cell_type": "code",
      "source": [
        "plt.scatter(df_norm['x'], df_norm['y'], c=df_norm['anomaly'])\n",
        "plt.scatter(outliers['x'], outliers['y'], marker='x')\n",
        "plt.show()"
      ],
      "metadata": {
        "id": "0sqJWkaD-DTm",
        "outputId": "de849153-4160-4305-f6ca-1d31332a7c82",
        "colab": {
          "base_uri": "https://localhost:8080/",
          "height": 265
        }
      },
      "id": "0sqJWkaD-DTm",
      "execution_count": 33,
      "outputs": [
        {
          "output_type": "display_data",
          "data": {
            "text/plain": [
              "<Figure size 432x288 with 1 Axes>"
            ],
            "image/png": "[encoded data removed]"
          },
          "metadata": {
            "needs_background": "light"
          }
        }
      ]
    },
    {
      "cell_type": "code",
      "source": [
        "outliers, df_skab = z_score_method(df_skab)"
      ],
      "metadata": {
        "id": "o1HNQwLa0dWX"
      },
      "id": "o1HNQwLa0dWX",
      "execution_count": null,
      "outputs": []
    },
    {
      "cell_type": "markdown",
      "id": "b643a113-ef78-4b52-a33d-63cb0c385b06",
      "metadata": {
        "id": "b643a113-ef78-4b52-a33d-63cb0c385b06"
      },
      "source": [
        "# ML методы"
      ]
    },
    {
      "cell_type": "markdown",
      "source": [
        "## Unsupervised"
      ],
      "metadata": {
        "id": "jmNyeSY11bZv"
      },
      "id": "jmNyeSY11bZv"
    },
    {
      "cell_type": "code",
      "execution_count": null,
      "id": "1e6ec4a8-615d-4fef-9393-69ce5dceb0c8",
      "metadata": {
        "id": "1e6ec4a8-615d-4fef-9393-69ce5dceb0c8",
        "outputId": "4480daa2-ced9-4fdf-a3d8-79f0c5fc84aa",
        "colab": {
          "base_uri": "https://localhost:8080/"
        }
      },
      "outputs": [
        {
          "output_type": "execute_result",
          "data": {
            "text/plain": [
              "((36920, 8), (36920,))"
            ]
          },
          "metadata": {},
          "execution_count": 20
        }
      ],
      "source": [
        "X = df_skab.copy()\n",
        "y = X.pop('anomaly')\n",
        "\n",
        "# preprocessing\n",
        "columns = list(X.columns)\n",
        "scaler = StandardScaler()\n",
        "X = scaler.fit_transform(X)\n",
        "X = pd.DataFrame(data=X, columns=columns)\n",
        "\n",
        "# IsolationForest\n",
        "iForest = IsolationForest(n_estimators=50, verbose=1)\n",
        "iForest.fit(X)\n",
        "pred = iForest.predict(X)\n",
        "pred[pred == 1] = 0\n",
        "pred[pred == -1] = 1\n",
        "f1_score(y, pred)"
      ]
    },
    {
      "cell_type": "markdown",
      "source": [
        "## Semi-supervised"
      ],
      "metadata": {
        "id": "qKkvxRmY1hOB"
      },
      "id": "qKkvxRmY1hOB"
    },
    {
      "cell_type": "code",
      "source": [],
      "metadata": {
        "id": "b1hD2CF01kL0"
      },
      "id": "b1hD2CF01kL0",
      "execution_count": null,
      "outputs": []
    }
  ],
  "metadata": {
    "kernelspec": {
      "display_name": "Python 3 (ipykernel)",
      "language": "python",
      "name": "python3"
    },
    "language_info": {
      "codemirror_mode": {
        "name": "ipython",
        "version": 3
      },
      "file_extension": ".py",
      "mimetype": "text/x-python",
      "name": "python",
      "nbconvert_exporter": "python",
      "pygments_lexer": "ipython3",
      "version": "3.9.13"
    },
    "colab": {
      "provenance": []
    }
  },
  "nbformat": 4,
  "nbformat_minor": 5
}