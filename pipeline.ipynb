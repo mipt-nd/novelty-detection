{
  "cells": [
    {
      "cell_type": "code",
      "source": [
        "! pip install pyod -q\n",
        "! pip install suod -q"
      ],
      "metadata": {
        "id": "HHwQddmycUkY"
      },
      "id": "HHwQddmycUkY",
      "execution_count": 30,
      "outputs": []
    },
    {
      "cell_type": "code",
      "source": [
        "# from google.colab import drive\n",
        "# drive.mount('/content/drive')\n",
        "# ! cp -r /content/drive/MyDrive/Study/MIPT_magistery/qualification_work/data ."
      ],
      "metadata": {
        "id": "CoB8xYIUmKDd"
      },
      "id": "CoB8xYIUmKDd",
      "execution_count": 31,
      "outputs": []
    },
    {
      "cell_type": "code",
      "execution_count": 32,
      "id": "oG6zyNZfv2W-",
      "metadata": {
        "id": "oG6zyNZfv2W-"
      },
      "outputs": [],
      "source": [
        "import os\n",
        "import random\n",
        "import sys\n",
        "from pprint import pprint\n",
        "\n",
        "import pandas as pd\n",
        "import numpy as np\n",
        "import matplotlib.pyplot as plt\n",
        "\n",
        "# for statistics\n",
        "from scipy.stats import kstest\n",
        "\n",
        "# preprocessing\n",
        "from sklearn.preprocessing import StandardScaler\n",
        "\n",
        "# ml methods\n",
        "from sklearn.model_selection import GridSearchCV\n",
        "from sklearn.ensemble import IsolationForest\n",
        "from sklearn.svm import OneClassSVM\n",
        "\n",
        "# pyod\n",
        "from pyod.models.ecod import ECOD\n",
        "from pyod.models.suod import SUOD\n",
        "from pyod.models.lof import LOF\n",
        "from pyod.models.copod import COPOD\n",
        "from pyod.models.iforest import IForest\n",
        "\n",
        "# metrics\n",
        "from sklearn.metrics import f1_score\n",
        "from sklearn.metrics import classification_report\n",
        "\n",
        "def seed_everything(seed):\n",
        "    # фискирует максимум сидов для корректности сравнения разных экспериментов\n",
        "    random.seed(seed)\n",
        "    os.environ[\"PYTHONHASHSEED\"] = str(seed)\n",
        "    np.random.seed(seed)\n",
        "    # torch.manual_seed(seed)\n",
        "    # torch.cuda.manual_seed(seed)\n",
        "    # torch.backends.cudnn.deterministic = True\n",
        "SEED = 42\n",
        "seed_everything(SEED)"
      ]
    },
    {
      "cell_type": "markdown",
      "id": "EQNqgtR8vutb",
      "metadata": {
        "id": "EQNqgtR8vutb"
      },
      "source": [
        "# Datasets"
      ]
    },
    {
      "cell_type": "code",
      "execution_count": 33,
      "id": "9f6dd3c2-5a68-49bf-aaa6-f208080cd093",
      "metadata": {
        "colab": {
          "base_uri": "https://localhost:8080/",
          "height": 267
        },
        "id": "9f6dd3c2-5a68-49bf-aaa6-f208080cd093",
        "outputId": "dc090deb-8328-45f6-acc5-fdc9c5865727"
      },
      "outputs": [
        {
          "output_type": "display_data",
          "data": {
            "text/plain": [
              "<Figure size 432x288 with 1 Axes>"
            ],
            "image/png": "[encoded data removed]"
          },
          "metadata": {
            "needs_background": "light"
          }
        }
      ],
      "source": [
        "# Синтетически сгенерированные нормально распределенные данные\n",
        "data_norm = pd.DataFrame(data=np.random.normal(\n",
        "                        loc=0, scale=1, size=(1000, 2)), \n",
        "                       columns=['x', 'y'])\n",
        "data_noise = pd.DataFrame(data=np.random.uniform(\n",
        "                        low=-6, high=6, size=(int(data_norm.shape[0]*.05), data_norm.shape[1])), \n",
        "                        columns=['x', 'y'])\n",
        "filter = (\n",
        "    (data_noise['x'] < data_norm['x'].min())\n",
        "    | (data_noise['x'] > data_norm['x'].max())\n",
        "    | (data_noise['y'] < data_norm['y'].min())\n",
        "    | (data_noise['y'] > data_norm['y'].max())\n",
        "    )\n",
        "data_noise = data_noise[filter]\n",
        "data_norm['anomaly'] = 0\n",
        "data_noise['anomaly'] = 1\n",
        "\n",
        "df_norm = pd.concat((data_norm, data_noise))\n",
        "plt.scatter(df_norm['x'], df_norm['y'], c=df_norm['anomaly'])\n",
        "plt.show()"
      ]
    },
    {
      "cell_type": "code",
      "execution_count": 34,
      "id": "7dKs4YU3vx_d",
      "metadata": {
        "colab": {
          "base_uri": "https://localhost:8080/",
          "height": 1000
        },
        "id": "7dKs4YU3vx_d",
        "outputId": "c048391b-ae73-48f3-de27-6fa558bc66ab"
      },
      "outputs": [
        {
          "output_type": "stream",
          "name": "stdout",
          "text": [
            "data/valve2/2.csv (1129, 10)\n",
            "data/valve2/1.csv (1063, 10)\n",
            "data/valve2/0.csv (1125, 10)\n",
            "data/valve2/3.csv (995, 10)\n",
            "data/other/2.csv (780, 10)\n",
            "data/other/14.csv (905, 10)\n",
            "data/other/1.csv (745, 10)\n",
            "data/other/10.csv (1327, 10)\n",
            "data/other/9.csv (1144, 10)\n",
            "data/other/6.csv (1147, 10)\n",
            "data/other/4.csv (1191, 10)\n",
            "data/other/7.csv (1090, 10)\n",
            "data/other/5.csv (1155, 10)\n",
            "data/other/8.csv (1147, 10)\n",
            "data/other/12.csv (1048, 10)\n",
            "data/other/11.csv (1190, 10)\n",
            "data/other/3.csv (1137, 10)\n",
            "data/other/13.csv (923, 10)\n",
            "data/anomaly-free/anomaly-free.csv (9405, 8)\n",
            "data/valve1/2.csv (1075, 10)\n",
            "data/valve1/14.csv (1139, 10)\n",
            "data/valve1/1.csv (1145, 10)\n",
            "data/valve1/10.csv (1146, 10)\n",
            "data/valve1/9.csv (1148, 10)\n",
            "data/valve1/6.csv (1154, 10)\n",
            "data/valve1/4.csv (1095, 10)\n",
            "data/valve1/0.csv (1147, 10)\n",
            "data/valve1/7.csv (1094, 10)\n",
            "data/valve1/5.csv (1154, 10)\n",
            "data/valve1/15.csv (1150, 10)\n",
            "data/valve1/8.csv (1144, 10)\n",
            "data/valve1/12.csv (1140, 10)\n",
            "data/valve1/11.csv (1141, 10)\n",
            "data/valve1/3.csv (1148, 10)\n",
            "data/valve1/13.csv (1140, 10)\n",
            "Features:\n",
            "\t Accelerometer1RMS\n",
            "\t Accelerometer2RMS\n",
            "\t Current\n",
            "\t Pressure\n",
            "\t Temperature\n",
            "\t Thermocouple\n",
            "\t Voltage\n",
            "\t Volume Flow RateRMS\n",
            "\t anomaly\n",
            "\t changepoint\n",
            "(37401, 10)\n"
          ]
        },
        {
          "output_type": "display_data",
          "data": {
            "text/plain": [
              "                     Accelerometer1RMS  Accelerometer2RMS   Current  Pressure  \\\n",
              "datetime                                                                        \n",
              "2020-03-09 16:36:31           0.027334           0.039599  1.283630  0.382638   \n",
              "2020-03-09 16:36:32           0.027162           0.040524  0.621886  0.054711   \n",
              "2020-03-09 16:36:33           0.027159           0.040818  1.019710  0.054711   \n",
              "2020-03-09 16:36:34           0.027328           0.039567  1.148130  0.382638   \n",
              "2020-03-09 16:36:36           0.027867           0.039572  1.197150  0.382638   \n",
              "...                                ...                ...       ...       ...   \n",
              "2020-03-09 14:54:36           0.027120           0.037739  1.040090 -0.273216   \n",
              "2020-03-09 14:54:37           0.027453           0.038431  0.736060  0.382638   \n",
              "2020-03-09 14:54:38           0.026951           0.038982  0.664913 -0.273216   \n",
              "2020-03-09 14:54:39           0.027127           0.039562  1.326850  0.054711   \n",
              "2020-03-09 14:54:40           0.026864           0.039719  0.742318  0.054711   \n",
              "\n",
              "                     Temperature  Thermocouple  Voltage  Volume Flow RateRMS  \\\n",
              "datetime                                                                       \n",
              "2020-03-09 16:36:31      67.8356       24.2191  232.727              31.0409   \n",
              "2020-03-09 16:36:32      67.8447       24.2318  232.856              32.0000   \n",
              "2020-03-09 16:36:33      67.8444       24.2259  222.798              32.0000   \n",
              "2020-03-09 16:36:34      67.8797       24.2328  230.654              32.0000   \n",
              "2020-03-09 16:36:36      67.9064       24.2308  237.878              32.0000   \n",
              "...                          ...           ...      ...                  ...   \n",
              "2020-03-09 14:54:36      65.9516       24.5866  218.878              32.9719   \n",
              "2020-03-09 14:54:37      66.1711       24.5804  248.025              32.0000   \n",
              "2020-03-09 14:54:38      66.1326       24.5834  220.668              32.0290   \n",
              "2020-03-09 14:54:39      66.0346       24.5779  251.771              32.9719   \n",
              "2020-03-09 14:54:40      66.0500       24.5862  235.508              32.0290   \n",
              "\n",
              "                     anomaly  \n",
              "datetime                      \n",
              "2020-03-09 16:36:31      0.0  \n",
              "2020-03-09 16:36:32      0.0  \n",
              "2020-03-09 16:36:33      0.0  \n",
              "2020-03-09 16:36:34      0.0  \n",
              "2020-03-09 16:36:36      0.0  \n",
              "...                      ...  \n",
              "2020-03-09 14:54:36      0.0  \n",
              "2020-03-09 14:54:37      0.0  \n",
              "2020-03-09 14:54:38      0.0  \n",
              "2020-03-09 14:54:39      0.0  \n",
              "2020-03-09 14:54:40      0.0  \n",
              "\n",
              "[36920 rows x 9 columns]"
            ],
            "text/html": [
              "\n",
              "  <div id=\"df-f1672293-8608-4aa9-98e3-412fbc5a6c54\">\n",
              "    <div class=\"colab-df-container\">\n",
              "      <div>\n",
              "<style scoped>\n",
              "    .dataframe tbody tr th:only-of-type {\n",
              "        vertical-align: middle;\n",
              "    }\n",
              "\n",
              "    .dataframe tbody tr th {\n",
              "        vertical-align: top;\n",
              "    }\n",
              "\n",
              "    .dataframe thead th {\n",
              "        text-align: right;\n",
              "    }\n",
              "</style>\n",
              "<table border=\"1\" class=\"dataframe\">\n",
              "  <thead>\n",
              "    <tr style=\"text-align: right;\">\n",
              "      <th></th>\n",
              "      <th>Accelerometer1RMS</th>\n",
              "      <th>Accelerometer2RMS</th>\n",
              "      <th>Current</th>\n",
              "      <th>Pressure</th>\n",
              "      <th>Temperature</th>\n",
              "      <th>Thermocouple</th>\n",
              "      <th>Voltage</th>\n",
              "      <th>Volume Flow RateRMS</th>\n",
              "      <th>anomaly</th>\n",
              "    </tr>\n",
              "    <tr>\n",
              "      <th>datetime</th>\n",
              "      <th></th>\n",
              "      <th></th>\n",
              "      <th></th>\n",
              "      <th></th>\n",
              "      <th></th>\n",
              "      <th></th>\n",
              "      <th></th>\n",
              "      <th></th>\n",
              "      <th></th>\n",
              "    </tr>\n",
              "  </thead>\n",
              "  <tbody>\n",
              "    <tr>\n",
              "      <th>2020-03-09 16:36:31</th>\n",
              "      <td>0.027334</td>\n",
              "      <td>0.039599</td>\n",
              "      <td>1.283630</td>\n",
              "      <td>0.382638</td>\n",
              "      <td>67.8356</td>\n",
              "      <td>24.2191</td>\n",
              "      <td>232.727</td>\n",
              "      <td>31.0409</td>\n",
              "      <td>0.0</td>\n",
              "    </tr>\n",
              "    <tr>\n",
              "      <th>2020-03-09 16:36:32</th>\n",
              "      <td>0.027162</td>\n",
              "      <td>0.040524</td>\n",
              "      <td>0.621886</td>\n",
              "      <td>0.054711</td>\n",
              "      <td>67.8447</td>\n",
              "      <td>24.2318</td>\n",
              "      <td>232.856</td>\n",
              "      <td>32.0000</td>\n",
              "      <td>0.0</td>\n",
              "    </tr>\n",
              "    <tr>\n",
              "      <th>2020-03-09 16:36:33</th>\n",
              "      <td>0.027159</td>\n",
              "      <td>0.040818</td>\n",
              "      <td>1.019710</td>\n",
              "      <td>0.054711</td>\n",
              "      <td>67.8444</td>\n",
              "      <td>24.2259</td>\n",
              "      <td>222.798</td>\n",
              "      <td>32.0000</td>\n",
              "      <td>0.0</td>\n",
              "    </tr>\n",
              "    <tr>\n",
              "      <th>2020-03-09 16:36:34</th>\n",
              "      <td>0.027328</td>\n",
              "      <td>0.039567</td>\n",
              "      <td>1.148130</td>\n",
              "      <td>0.382638</td>\n",
              "      <td>67.8797</td>\n",
              "      <td>24.2328</td>\n",
              "      <td>230.654</td>\n",
              "      <td>32.0000</td>\n",
              "      <td>0.0</td>\n",
              "    </tr>\n",
              "    <tr>\n",
              "      <th>2020-03-09 16:36:36</th>\n",
              "      <td>0.027867</td>\n",
              "      <td>0.039572</td>\n",
              "      <td>1.197150</td>\n",
              "      <td>0.382638</td>\n",
              "      <td>67.9064</td>\n",
              "      <td>24.2308</td>\n",
              "      <td>237.878</td>\n",
              "      <td>32.0000</td>\n",
              "      <td>0.0</td>\n",
              "    </tr>\n",
              "    <tr>\n",
              "      <th>...</th>\n",
              "      <td>...</td>\n",
              "      <td>...</td>\n",
              "      <td>...</td>\n",
              "      <td>...</td>\n",
              "      <td>...</td>\n",
              "      <td>...</td>\n",
              "      <td>...</td>\n",
              "      <td>...</td>\n",
              "      <td>...</td>\n",
              "    </tr>\n",
              "    <tr>\n",
              "      <th>2020-03-09 14:54:36</th>\n",
              "      <td>0.027120</td>\n",
              "      <td>0.037739</td>\n",
              "      <td>1.040090</td>\n",
              "      <td>-0.273216</td>\n",
              "      <td>65.9516</td>\n",
              "      <td>24.5866</td>\n",
              "      <td>218.878</td>\n",
              "      <td>32.9719</td>\n",
              "      <td>0.0</td>\n",
              "    </tr>\n",
              "    <tr>\n",
              "      <th>2020-03-09 14:54:37</th>\n",
              "      <td>0.027453</td>\n",
              "      <td>0.038431</td>\n",
              "      <td>0.736060</td>\n",
              "      <td>0.382638</td>\n",
              "      <td>66.1711</td>\n",
              "      <td>24.5804</td>\n",
              "      <td>248.025</td>\n",
              "      <td>32.0000</td>\n",
              "      <td>0.0</td>\n",
              "    </tr>\n",
              "    <tr>\n",
              "      <th>2020-03-09 14:54:38</th>\n",
              "      <td>0.026951</td>\n",
              "      <td>0.038982</td>\n",
              "      <td>0.664913</td>\n",
              "      <td>-0.273216</td>\n",
              "      <td>66.1326</td>\n",
              "      <td>24.5834</td>\n",
              "      <td>220.668</td>\n",
              "      <td>32.0290</td>\n",
              "      <td>0.0</td>\n",
              "    </tr>\n",
              "    <tr>\n",
              "      <th>2020-03-09 14:54:39</th>\n",
              "      <td>0.027127</td>\n",
              "      <td>0.039562</td>\n",
              "      <td>1.326850</td>\n",
              "      <td>0.054711</td>\n",
              "      <td>66.0346</td>\n",
              "      <td>24.5779</td>\n",
              "      <td>251.771</td>\n",
              "      <td>32.9719</td>\n",
              "      <td>0.0</td>\n",
              "    </tr>\n",
              "    <tr>\n",
              "      <th>2020-03-09 14:54:40</th>\n",
              "      <td>0.026864</td>\n",
              "      <td>0.039719</td>\n",
              "      <td>0.742318</td>\n",
              "      <td>0.054711</td>\n",
              "      <td>66.0500</td>\n",
              "      <td>24.5862</td>\n",
              "      <td>235.508</td>\n",
              "      <td>32.0290</td>\n",
              "      <td>0.0</td>\n",
              "    </tr>\n",
              "  </tbody>\n",
              "</table>\n",
              "<p>36920 rows × 9 columns</p>\n",
              "</div>\n",
              "      <button class=\"colab-df-convert\" onclick=\"convertToInteractive('df-f1672293-8608-4aa9-98e3-412fbc5a6c54')\"\n",
              "              title=\"Convert this dataframe to an interactive table.\"\n",
              "              style=\"display:none;\">\n",
              "        \n",
              "  <svg xmlns=\"http://www.w3.org/2000/svg\" height=\"24px\"viewBox=\"0 0 24 24\"\n",
              "       width=\"24px\">\n",
              "    <path d=\"M0 0h24v24H0V0z\" fill=\"none\"/>\n",
              "    <path d=\"M18.56 5.44l.94 2.06.94-2.06 2.06-.94-2.06-.94-.94-2.06-.94 2.06-2.06.94zm-11 1L8.5 8.5l.94-2.06 2.06-.94-2.06-.94L8.5 2.5l-.94 2.06-2.06.94zm10 10l.94 2.06.94-2.06 2.06-.94-2.06-.94-.94-2.06-.94 2.06-2.06.94z\"/><path d=\"M17.41 7.96l-1.37-1.37c-.4-.4-.92-.59-1.43-.59-.52 0-1.04.2-1.43.59L10.3 9.45l-7.72 7.72c-.78.78-.78 2.05 0 2.83L4 21.41c.39.39.9.59 1.41.59.51 0 1.02-.2 1.41-.59l7.78-7.78 2.81-2.81c.8-.78.8-2.07 0-2.86zM5.41 20L4 18.59l7.72-7.72 1.47 1.35L5.41 20z\"/>\n",
              "  </svg>\n",
              "      </button>\n",
              "      \n",
              "  <style>\n",
              "    .colab-df-container {\n",
              "      display:flex;\n",
              "      flex-wrap:wrap;\n",
              "      gap: 12px;\n",
              "    }\n",
              "\n",
              "    .colab-df-convert {\n",
              "      background-color: #E8F0FE;\n",
              "      border: none;\n",
              "      border-radius: 50%;\n",
              "      cursor: pointer;\n",
              "      display: none;\n",
              "      fill: #1967D2;\n",
              "      height: 32px;\n",
              "      padding: 0 0 0 0;\n",
              "      width: 32px;\n",
              "    }\n",
              "\n",
              "    .colab-df-convert:hover {\n",
              "      background-color: #E2EBFA;\n",
              "      box-shadow: 0px 1px 2px rgba(60, 64, 67, 0.3), 0px 1px 3px 1px rgba(60, 64, 67, 0.15);\n",
              "      fill: #174EA6;\n",
              "    }\n",
              "\n",
              "    [theme=dark] .colab-df-convert {\n",
              "      background-color: #3B4455;\n",
              "      fill: #D2E3FC;\n",
              "    }\n",
              "\n",
              "    [theme=dark] .colab-df-convert:hover {\n",
              "      background-color: #434B5C;\n",
              "      box-shadow: 0px 1px 3px 1px rgba(0, 0, 0, 0.15);\n",
              "      filter: drop-shadow(0px 1px 2px rgba(0, 0, 0, 0.3));\n",
              "      fill: #FFFFFF;\n",
              "    }\n",
              "  </style>\n",
              "\n",
              "      <script>\n",
              "        const buttonEl =\n",
              "          document.querySelector('#df-f1672293-8608-4aa9-98e3-412fbc5a6c54 button.colab-df-convert');\n",
              "        buttonEl.style.display =\n",
              "          google.colab.kernel.accessAllowed ? 'block' : 'none';\n",
              "\n",
              "        async function convertToInteractive(key) {\n",
              "          const element = document.querySelector('#df-f1672293-8608-4aa9-98e3-412fbc5a6c54');\n",
              "          const dataTable =\n",
              "            await google.colab.kernel.invokeFunction('convertToInteractive',\n",
              "                                                     [key], {});\n",
              "          if (!dataTable) return;\n",
              "\n",
              "          const docLinkHtml = 'Like what you see? Visit the ' +\n",
              "            '<a target=\"_blank\" href=https://colab.research.google.com/notebooks/data_table.ipynb>data table notebook</a>'\n",
              "            + ' to learn more about interactive tables.';\n",
              "          element.innerHTML = '';\n",
              "          dataTable['output_type'] = 'display_data';\n",
              "          await google.colab.output.renderOutput(dataTable, element);\n",
              "          const docLink = document.createElement('div');\n",
              "          docLink.innerHTML = docLinkHtml;\n",
              "          element.appendChild(docLink);\n",
              "        }\n",
              "      </script>\n",
              "    </div>\n",
              "  </div>\n",
              "  "
            ]
          },
          "metadata": {}
        }
      ],
      "source": [
        "# SKAB data\n",
        "\n",
        "all_files=[]\n",
        "for root, dirs, files in os.walk(\"data/\"):\n",
        "    for file in files:\n",
        "        if file.endswith(\".csv\"):\n",
        "             all_files.append(os.path.join(root, file))\n",
        "\n",
        "# формируем датафрейм\n",
        "dfs=[]\n",
        "for path in all_files:\n",
        "    df = pd.read_csv(path,index_col='datetime',sep=';',parse_dates=True)\n",
        "    print(path, df.shape)\n",
        "    dfs.append(df)\n",
        "print('Features:')\n",
        "for col in dfs[2].columns:\n",
        "    print('\\t',col)\n",
        "dfs = [df for df in dfs if df.shape[1] == 10]\n",
        "df_skab = pd.concat(dfs)\n",
        "print(df_skab.shape)\n",
        "df_skab = df_skab.drop_duplicates()\n",
        "df_skab = df_skab.drop('changepoint', axis=1)\n",
        "display(df_skab)"
      ]
    },
    {
      "cell_type": "code",
      "source": [
        "datasets = {\n",
        "    'df_norm': df_norm,\n",
        "    'df_skab': df_skab\n",
        "}"
      ],
      "metadata": {
        "id": "ctwHo11HgmyW"
      },
      "id": "ctwHo11HgmyW",
      "execution_count": 35,
      "outputs": []
    },
    {
      "cell_type": "markdown",
      "id": "YC4gs49HAUQL",
      "metadata": {
        "id": "YC4gs49HAUQL"
      },
      "source": [
        "# Статический метод выявления выбросов (3 сигма)"
      ]
    },
    {
      "cell_type": "code",
      "execution_count": 36,
      "id": "5f8bd6f0-42a5-4f5e-9fda-a4adbff9c446",
      "metadata": {
        "id": "5f8bd6f0-42a5-4f5e-9fda-a4adbff9c446"
      },
      "outputs": [],
      "source": [
        "def check_kstest(df, alpha=0.01):\n",
        "    columns = list(df.columns)\n",
        "    cols_with_pos_res = []\n",
        "    for col in columns:\n",
        "        if kstest(df[col], 'norm').pvalue > alpha:\n",
        "            cols_with_pos_res.append(col)\n",
        "    return cols_with_pos_res\n",
        "\n",
        "def outliers_z_score(data, feature):\n",
        "    x = data[feature]\n",
        "    mu = x.mean()\n",
        "    sigma = x.std()\n",
        "    lower_bound = mu - 3 * sigma\n",
        "    upper_bound = mu + 3 * sigma\n",
        "    outliers = data[(x < lower_bound) | (x > upper_bound)]\n",
        "    cleaned = data[(x > lower_bound) & (x < upper_bound)]\n",
        "    print(f'Признак {feature}. Число выбросов по методу z-отклонения: {outliers.shape[0]}')\n",
        "    return outliers\n",
        "\n",
        "def z_score_method(df):\n",
        "    \"\"\"\n",
        "    Метод работает с нормально распределенными данными,\n",
        "    при чем с небольшим (до 10%) количеством выбросов.\n",
        "    С ненормально распределенными данными не работает.\n",
        "    \"\"\"\n",
        "    norm_cols = check_kstest(df)\n",
        "    if norm_cols:\n",
        "        print('z_score_method')\n",
        "        outliers = pd.DataFrame()\n",
        "        for col in norm_cols:\n",
        "            outliers = pd.concat((outliers, outliers_z_score(df, col)))\n",
        "        outliers = outliers.drop_duplicates()\n",
        "        outliers['anomaly_preds'] = 1\n",
        "        df_with_marked_outliers = df.merge(outliers, how='outer').fillna(0)\n",
        "        return outliers, df_with_marked_outliers\n",
        "    else:\n",
        "        print('The data are not normally distributed')\n",
        "        return None, df"
      ]
    },
    {
      "cell_type": "markdown",
      "id": "MLsoiQw96Stc",
      "metadata": {
        "id": "MLsoiQw96Stc"
      },
      "source": [
        "# Метрики"
      ]
    },
    {
      "cell_type": "code",
      "execution_count": 37,
      "id": "Hv1Q_2Wm6NAF",
      "metadata": {
        "id": "Hv1Q_2Wm6NAF"
      },
      "outputs": [],
      "source": [
        "# f1_score\n",
        "def score_metrics(real_outliers, pred_outliers):\n",
        "    scores = {}\n",
        "    # scores['f1_score'] = f1_score(real_outliers, pred_outliers)\n",
        "    scores = classification_report(real_outliers, pred_outliers)\n",
        "    return scores"
      ]
    },
    {
      "cell_type": "markdown",
      "id": "_XgPY10nA3cn",
      "metadata": {
        "id": "_XgPY10nA3cn"
      },
      "source": [
        "Ищем выбросы"
      ]
    },
    {
      "cell_type": "code",
      "execution_count": 38,
      "id": "dfgBxUIuwW5R",
      "metadata": {
        "id": "dfgBxUIuwW5R"
      },
      "outputs": [],
      "source": [
        "def stat_method(X, y):\n",
        "    outliers, X = z_score_method(X)\n",
        "    if outliers is not None:\n",
        "        print(score_metrics(y, X['anomaly_preds']))"
      ]
    },
    {
      "cell_type": "code",
      "execution_count": 39,
      "id": "o1HNQwLa0dWX",
      "metadata": {
        "colab": {
          "base_uri": "https://localhost:8080/"
        },
        "id": "o1HNQwLa0dWX",
        "outputId": "d456fb83-0f7c-48fe-988c-f2ced168c0ab"
      },
      "outputs": [
        {
          "output_type": "stream",
          "name": "stdout",
          "text": [
            "The data are not normally distributed\n"
          ]
        }
      ],
      "source": [
        "outliers, df_skab = z_score_method(df_skab)"
      ]
    },
    {
      "cell_type": "markdown",
      "id": "b643a113-ef78-4b52-a33d-63cb0c385b06",
      "metadata": {
        "id": "b643a113-ef78-4b52-a33d-63cb0c385b06"
      },
      "source": [
        "# ML методы"
      ]
    },
    {
      "cell_type": "code",
      "execution_count": 40,
      "id": "1e6ec4a8-615d-4fef-9393-69ce5dceb0c8",
      "metadata": {
        "id": "1e6ec4a8-615d-4fef-9393-69ce5dceb0c8"
      },
      "outputs": [],
      "source": [
        "def preprocessing(df):\n",
        "    X = df.copy()\n",
        "    y = X.pop('anomaly')\n",
        "\n",
        "    # preprocessing\n",
        "    columns = list(X.columns)\n",
        "    scaler = StandardScaler()\n",
        "    X = scaler.fit_transform(X)\n",
        "    X = pd.DataFrame(data=X, columns=columns)\n",
        "    return X, y\n",
        "\n",
        "def ml_method(X, y, model, params):\n",
        "    grid = GridSearchCV(\n",
        "                estimator=model(),\n",
        "                param_grid=params,\n",
        "                scoring='f1_micro',\n",
        "                return_train_score=True).fit(X, y)\n",
        "    pred = grid.best_estimator_.predict(X)\n",
        "    pred[pred == 1] = 0\n",
        "    pred[pred == -1] = 1\n",
        "    print(grid.best_estimator_)\n",
        "    print(score_metrics(y, pred))"
      ]
    },
    {
      "cell_type": "code",
      "source": [
        "ml_models = {}\n",
        "ml_models['IsolationForest'] = {\n",
        "    'model': IsolationForest,\n",
        "    'params': {\n",
        "        'n_estimators': [50, 100, 500],\n",
        "        'bootstrap': [True, False],\n",
        "        }\n",
        "    }\n",
        "ml_models['OneClassSVM'] = {\n",
        "    'model': OneClassSVM,\n",
        "    'params': {\n",
        "        'nu': [0.001, 0.01, 0.1, 0.5, 1],\n",
        "    }\n",
        "}"
      ],
      "metadata": {
        "id": "anxE7gx_4gNB"
      },
      "id": "anxE7gx_4gNB",
      "execution_count": 41,
      "outputs": []
    },
    {
      "cell_type": "code",
      "source": [
        "for df_name, df in datasets.items():\n",
        "    print(df_name)\n",
        "    X, y = preprocessing(df)\n",
        "    stat_method(X, y)\n",
        "    for model in ml_models:\n",
        "        ml_method(X, y, ml_models[model]['model'], \n",
        "                        ml_models[model]['params'])\n",
        "    print('-' * 10)"
      ],
      "metadata": {
        "id": "c0M6OLLOgVUA",
        "outputId": "b96b9330-d582-482b-85da-e59fd4f3be45",
        "colab": {
          "base_uri": "https://localhost:8080/"
        }
      },
      "id": "c0M6OLLOgVUA",
      "execution_count": null,
      "outputs": [
        {
          "output_type": "stream",
          "name": "stdout",
          "text": [
            "df_norm\n",
            "z_score_method\n",
            "Признак y. Число выбросов по методу z-отклонения: 19\n",
            "              precision    recall  f1-score   support\n",
            "\n",
            "           0       0.98      1.00      0.99      1000\n",
            "           1       0.95      0.53      0.68        34\n",
            "\n",
            "    accuracy                           0.98      1034\n",
            "   macro avg       0.97      0.76      0.84      1034\n",
            "weighted avg       0.98      0.98      0.98      1034\n",
            "\n",
            "IsolationForest(bootstrap=True, n_estimators=50)\n",
            "              precision    recall  f1-score   support\n",
            "\n",
            "           0       1.00      0.91      0.95      1000\n",
            "           1       0.27      1.00      0.43        34\n",
            "\n",
            "    accuracy                           0.91      1034\n",
            "   macro avg       0.64      0.95      0.69      1034\n",
            "weighted avg       0.98      0.91      0.94      1034\n",
            "\n",
            "OneClassSVM(nu=0.001)\n",
            "              precision    recall  f1-score   support\n",
            "\n",
            "           0       0.97      0.76      0.85      1000\n",
            "           1       0.05      0.38      0.09        34\n",
            "\n",
            "    accuracy                           0.75      1034\n",
            "   macro avg       0.51      0.57      0.47      1034\n",
            "weighted avg       0.94      0.75      0.83      1034\n",
            "\n",
            "----------\n",
            "df_skab\n",
            "The data are not normally distributed\n",
            "IsolationForest(bootstrap=True)\n",
            "              precision    recall  f1-score   support\n",
            "\n",
            "         0.0       0.69      0.81      0.75     23853\n",
            "         1.0       0.50      0.35      0.41     13067\n",
            "\n",
            "    accuracy                           0.65     36920\n",
            "   macro avg       0.60      0.58      0.58     36920\n",
            "weighted avg       0.63      0.65      0.63     36920\n",
            "\n",
            "OneClassSVM(nu=0.001)\n",
            "              precision    recall  f1-score   support\n",
            "\n",
            "         0.0       0.65      1.00      0.78     23853\n",
            "         1.0       0.50      0.00      0.00     13067\n",
            "\n",
            "    accuracy                           0.65     36920\n",
            "   macro avg       0.57      0.50      0.39     36920\n",
            "weighted avg       0.59      0.65      0.51     36920\n",
            "\n",
            "----------\n"
          ]
        }
      ]
    },
    {
      "cell_type": "code",
      "source": [
        "clf = ECOD()\n",
        "clf.fit(df_norm[['x', 'y']])\n",
        "pred = clf.predict(df_norm[['x', 'y']])\n",
        "print(score_metrics(df_norm['anomaly'], pred))"
      ],
      "metadata": {
        "id": "wuekIh-2cQdP",
        "outputId": "81ab44d0-dba2-45f3-8878-2b787287be7d",
        "colab": {
          "base_uri": "https://localhost:8080/"
        }
      },
      "id": "wuekIh-2cQdP",
      "execution_count": 42,
      "outputs": [
        {
          "output_type": "stream",
          "name": "stdout",
          "text": [
            "              precision    recall  f1-score   support\n",
            "\n",
            "           0       1.00      0.93      0.96      1000\n",
            "           1       0.33      1.00      0.49        34\n",
            "\n",
            "    accuracy                           0.93      1034\n",
            "   macro avg       0.66      0.97      0.73      1034\n",
            "weighted avg       0.98      0.93      0.95      1034\n",
            "\n"
          ]
        }
      ]
    },
    {
      "cell_type": "code",
      "source": [
        "clf = ECOD()\n",
        "X, y = preprocessing(df_skab)\n",
        "clf.fit(X)\n",
        "pred = clf.predict(X)\n",
        "print(score_metrics(y, pred))"
      ],
      "metadata": {
        "id": "8APSpqzskZIn",
        "outputId": "37bc9321-f5b4-406b-fd4b-cd1e1dadc61c",
        "colab": {
          "base_uri": "https://localhost:8080/"
        }
      },
      "id": "8APSpqzskZIn",
      "execution_count": 43,
      "outputs": [
        {
          "output_type": "stream",
          "name": "stdout",
          "text": [
            "              precision    recall  f1-score   support\n",
            "\n",
            "         0.0       0.69      0.95      0.80     23853\n",
            "         1.0       0.71      0.20      0.31     13067\n",
            "\n",
            "    accuracy                           0.69     36920\n",
            "   macro avg       0.70      0.58      0.56     36920\n",
            "weighted avg       0.69      0.69      0.63     36920\n",
            "\n"
          ]
        }
      ]
    },
    {
      "cell_type": "code",
      "source": [
        "# initialized a group of outlier detectors for acceleration\n",
        "detector_list = [LOF(n_neighbors=15), LOF(n_neighbors=20),\n",
        "                 LOF(n_neighbors=25), LOF(n_neighbors=35),\n",
        "                 COPOD(), IForest(n_estimators=100),\n",
        "                 IForest(n_estimators=200)]\n",
        "\n",
        "# decide the number of parallel process, and the combination method\n",
        "# then clf can be used as any outlier detection model\n",
        "clf = SUOD(base_estimators=detector_list, n_jobs=2, combination='average',\n",
        "           verbose=False)\n",
        "\n",
        "X, y = preprocessing(df_skab)\n",
        "clf.fit(X)\n",
        "pred = clf.predict(X)\n",
        "print(score_metrics(y, pred))"
      ],
      "metadata": {
        "id": "PgS0ecjHxjjS",
        "outputId": "488817c4-8bd4-4de0-96b0-60070eb77a70",
        "colab": {
          "base_uri": "https://localhost:8080/"
        }
      },
      "id": "PgS0ecjHxjjS",
      "execution_count": 44,
      "outputs": [
        {
          "output_type": "stream",
          "name": "stdout",
          "text": [
            "\n"
          ]
        },
        {
          "output_type": "stream",
          "name": "stderr",
          "text": [
            "[Parallel(n_jobs=2)]: Using backend LokyBackend with 2 concurrent workers.\n",
            "[Parallel(n_jobs=2)]: Done   2 out of   2 | elapsed:   10.8s remaining:    0.0s\n",
            "[Parallel(n_jobs=2)]: Done   2 out of   2 | elapsed:   10.8s finished\n",
            "[Parallel(n_jobs=2)]: Using backend LokyBackend with 2 concurrent workers.\n",
            "[Parallel(n_jobs=2)]: Done   2 out of   2 | elapsed:  1.4min remaining:    0.0s\n",
            "[Parallel(n_jobs=2)]: Done   2 out of   2 | elapsed:  1.4min finished\n"
          ]
        },
        {
          "output_type": "stream",
          "name": "stdout",
          "text": [
            "\n"
          ]
        },
        {
          "output_type": "stream",
          "name": "stderr",
          "text": [
            "[Parallel(n_jobs=2)]: Using backend LokyBackend with 2 concurrent workers.\n"
          ]
        },
        {
          "output_type": "stream",
          "name": "stdout",
          "text": [
            "              precision    recall  f1-score   support\n",
            "\n",
            "         0.0       0.68      0.95      0.79     23853\n",
            "         1.0       0.63      0.17      0.27     13067\n",
            "\n",
            "    accuracy                           0.67     36920\n",
            "   macro avg       0.66      0.56      0.53     36920\n",
            "weighted avg       0.66      0.67      0.61     36920\n",
            "\n"
          ]
        },
        {
          "output_type": "stream",
          "name": "stderr",
          "text": [
            "[Parallel(n_jobs=2)]: Done   2 out of   2 | elapsed:   12.2s remaining:    0.0s\n",
            "[Parallel(n_jobs=2)]: Done   2 out of   2 | elapsed:   12.2s finished\n"
          ]
        }
      ]
    }
  ],
  "metadata": {
    "colab": {
      "provenance": []
    },
    "kernelspec": {
      "display_name": "Python 3 (ipykernel)",
      "language": "python",
      "name": "python3"
    },
    "language_info": {
      "codemirror_mode": {
        "name": "ipython",
        "version": 3
      },
      "file_extension": ".py",
      "mimetype": "text/x-python",
      "name": "python",
      "nbconvert_exporter": "python",
      "pygments_lexer": "ipython3",
      "version": "3.9.13"
    }
  },
  "nbformat": 4,
  "nbformat_minor": 5
}